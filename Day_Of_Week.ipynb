{
 "cells": [
  {
   "cell_type": "code",
   "execution_count": 1,
   "metadata": {},
   "outputs": [],
   "source": [
    "import pandas as pd\n",
    "import numpy as np\n",
    "import matplotlib.pyplot as plt\n",
    "from datetime import datetime"
   ]
  },
  {
   "cell_type": "code",
   "execution_count": 27,
   "metadata": {},
   "outputs": [
    {
     "data": {
      "text/html": [
       "<div>\n",
       "<style scoped>\n",
       "    .dataframe tbody tr th:only-of-type {\n",
       "        vertical-align: middle;\n",
       "    }\n",
       "\n",
       "    .dataframe tbody tr th {\n",
       "        vertical-align: top;\n",
       "    }\n",
       "\n",
       "    .dataframe thead th {\n",
       "        text-align: right;\n",
       "    }\n",
       "</style>\n",
       "<table border=\"1\" class=\"dataframe\">\n",
       "  <thead>\n",
       "    <tr style=\"text-align: right;\">\n",
       "      <th></th>\n",
       "      <th>date</th>\n",
       "      <th>close</th>\n",
       "      <th>volume</th>\n",
       "      <th>open</th>\n",
       "      <th>high</th>\n",
       "      <th>low</th>\n",
       "    </tr>\n",
       "  </thead>\n",
       "  <tbody>\n",
       "    <tr>\n",
       "      <th>1</th>\n",
       "      <td>2019/09/18</td>\n",
       "      <td>301.10</td>\n",
       "      <td>74192090.0000</td>\n",
       "      <td>300.49</td>\n",
       "      <td>301.2200</td>\n",
       "      <td>298.24</td>\n",
       "    </tr>\n",
       "    <tr>\n",
       "      <th>2</th>\n",
       "      <td>2019/09/17</td>\n",
       "      <td>300.92</td>\n",
       "      <td>42904430.0000</td>\n",
       "      <td>299.94</td>\n",
       "      <td>301.0200</td>\n",
       "      <td>299.75</td>\n",
       "    </tr>\n",
       "    <tr>\n",
       "      <th>3</th>\n",
       "      <td>2019/09/16</td>\n",
       "      <td>300.16</td>\n",
       "      <td>58191180.0000</td>\n",
       "      <td>299.84</td>\n",
       "      <td>301.1378</td>\n",
       "      <td>299.45</td>\n",
       "    </tr>\n",
       "    <tr>\n",
       "      <th>4</th>\n",
       "      <td>2019/09/13</td>\n",
       "      <td>301.09</td>\n",
       "      <td>62104840.0000</td>\n",
       "      <td>301.78</td>\n",
       "      <td>302.1700</td>\n",
       "      <td>300.68</td>\n",
       "    </tr>\n",
       "    <tr>\n",
       "      <th>5</th>\n",
       "      <td>2019/09/12</td>\n",
       "      <td>301.29</td>\n",
       "      <td>72908750.0000</td>\n",
       "      <td>301.25</td>\n",
       "      <td>302.4600</td>\n",
       "      <td>300.41</td>\n",
       "    </tr>\n",
       "  </tbody>\n",
       "</table>\n",
       "</div>"
      ],
      "text/plain": [
       "         date   close         volume    open      high     low\n",
       "1  2019/09/18  301.10  74192090.0000  300.49  301.2200  298.24\n",
       "2  2019/09/17  300.92  42904430.0000  299.94  301.0200  299.75\n",
       "3  2019/09/16  300.16  58191180.0000  299.84  301.1378  299.45\n",
       "4  2019/09/13  301.09  62104840.0000  301.78  302.1700  300.68\n",
       "5  2019/09/12  301.29  72908750.0000  301.25  302.4600  300.41"
      ]
     },
     "execution_count": 27,
     "metadata": {},
     "output_type": "execute_result"
    }
   ],
   "source": [
    "spy_df = pd.read_csv('./Monte_Carlo_Daily/HistoricalQuotes.csv')\n",
    "spy_df = spy_df[1:]\n",
    "spy_df.head()"
   ]
  },
  {
   "cell_type": "code",
   "execution_count": 28,
   "metadata": {},
   "outputs": [
    {
     "data": {
      "text/html": [
       "<div>\n",
       "<style scoped>\n",
       "    .dataframe tbody tr th:only-of-type {\n",
       "        vertical-align: middle;\n",
       "    }\n",
       "\n",
       "    .dataframe tbody tr th {\n",
       "        vertical-align: top;\n",
       "    }\n",
       "\n",
       "    .dataframe thead th {\n",
       "        text-align: right;\n",
       "    }\n",
       "</style>\n",
       "<table border=\"1\" class=\"dataframe\">\n",
       "  <thead>\n",
       "    <tr style=\"text-align: right;\">\n",
       "      <th></th>\n",
       "      <th>date</th>\n",
       "      <th>close</th>\n",
       "      <th>volume</th>\n",
       "      <th>open</th>\n",
       "      <th>high</th>\n",
       "      <th>low</th>\n",
       "      <th>day_of_week</th>\n",
       "    </tr>\n",
       "  </thead>\n",
       "  <tbody>\n",
       "    <tr>\n",
       "      <th>1</th>\n",
       "      <td>2019/09/18</td>\n",
       "      <td>301.10</td>\n",
       "      <td>74192090.0000</td>\n",
       "      <td>300.49</td>\n",
       "      <td>301.2200</td>\n",
       "      <td>298.24</td>\n",
       "      <td>Wednesday</td>\n",
       "    </tr>\n",
       "    <tr>\n",
       "      <th>2</th>\n",
       "      <td>2019/09/17</td>\n",
       "      <td>300.92</td>\n",
       "      <td>42904430.0000</td>\n",
       "      <td>299.94</td>\n",
       "      <td>301.0200</td>\n",
       "      <td>299.75</td>\n",
       "      <td>Tuesday</td>\n",
       "    </tr>\n",
       "    <tr>\n",
       "      <th>3</th>\n",
       "      <td>2019/09/16</td>\n",
       "      <td>300.16</td>\n",
       "      <td>58191180.0000</td>\n",
       "      <td>299.84</td>\n",
       "      <td>301.1378</td>\n",
       "      <td>299.45</td>\n",
       "      <td>Monday</td>\n",
       "    </tr>\n",
       "    <tr>\n",
       "      <th>4</th>\n",
       "      <td>2019/09/13</td>\n",
       "      <td>301.09</td>\n",
       "      <td>62104840.0000</td>\n",
       "      <td>301.78</td>\n",
       "      <td>302.1700</td>\n",
       "      <td>300.68</td>\n",
       "      <td>Friday</td>\n",
       "    </tr>\n",
       "    <tr>\n",
       "      <th>5</th>\n",
       "      <td>2019/09/12</td>\n",
       "      <td>301.29</td>\n",
       "      <td>72908750.0000</td>\n",
       "      <td>301.25</td>\n",
       "      <td>302.4600</td>\n",
       "      <td>300.41</td>\n",
       "      <td>Thursday</td>\n",
       "    </tr>\n",
       "  </tbody>\n",
       "</table>\n",
       "</div>"
      ],
      "text/plain": [
       "         date   close         volume    open      high     low day_of_week\n",
       "1  2019/09/18  301.10  74192090.0000  300.49  301.2200  298.24   Wednesday\n",
       "2  2019/09/17  300.92  42904430.0000  299.94  301.0200  299.75     Tuesday\n",
       "3  2019/09/16  300.16  58191180.0000  299.84  301.1378  299.45      Monday\n",
       "4  2019/09/13  301.09  62104840.0000  301.78  302.1700  300.68      Friday\n",
       "5  2019/09/12  301.29  72908750.0000  301.25  302.4600  300.41    Thursday"
      ]
     },
     "execution_count": 28,
     "metadata": {},
     "output_type": "execute_result"
    }
   ],
   "source": [
    "date_list = []\n",
    "for date in spy_df['date']:\n",
    "    date = datetime.strptime(date,'%Y/%m/%d')\n",
    "    date = datetime.strftime(date,'%A')\n",
    "    date_list.append(date)\n",
    "spy_df['day_of_week'] = date_list\n",
    "spy_df.head()"
   ]
  },
  {
   "cell_type": "code",
   "execution_count": 40,
   "metadata": {},
   "outputs": [
    {
     "data": {
      "text/html": [
       "<div>\n",
       "<style scoped>\n",
       "    .dataframe tbody tr th:only-of-type {\n",
       "        vertical-align: middle;\n",
       "    }\n",
       "\n",
       "    .dataframe tbody tr th {\n",
       "        vertical-align: top;\n",
       "    }\n",
       "\n",
       "    .dataframe thead th {\n",
       "        text-align: right;\n",
       "    }\n",
       "</style>\n",
       "<table border=\"1\" class=\"dataframe\">\n",
       "  <thead>\n",
       "    <tr style=\"text-align: right;\">\n",
       "      <th></th>\n",
       "      <th>date</th>\n",
       "      <th>close</th>\n",
       "      <th>volume</th>\n",
       "      <th>open</th>\n",
       "      <th>high</th>\n",
       "      <th>low</th>\n",
       "      <th>day_of_week</th>\n",
       "    </tr>\n",
       "  </thead>\n",
       "  <tbody>\n",
       "    <tr>\n",
       "      <th>1</th>\n",
       "      <td>2019/09/18</td>\n",
       "      <td>301.10</td>\n",
       "      <td>74192090.0</td>\n",
       "      <td>300.49</td>\n",
       "      <td>301.2200</td>\n",
       "      <td>298.24</td>\n",
       "      <td>Wednesday</td>\n",
       "    </tr>\n",
       "    <tr>\n",
       "      <th>2</th>\n",
       "      <td>2019/09/17</td>\n",
       "      <td>300.92</td>\n",
       "      <td>42904430.0</td>\n",
       "      <td>299.94</td>\n",
       "      <td>301.0200</td>\n",
       "      <td>299.75</td>\n",
       "      <td>Tuesday</td>\n",
       "    </tr>\n",
       "    <tr>\n",
       "      <th>3</th>\n",
       "      <td>2019/09/16</td>\n",
       "      <td>300.16</td>\n",
       "      <td>58191180.0</td>\n",
       "      <td>299.84</td>\n",
       "      <td>301.1378</td>\n",
       "      <td>299.45</td>\n",
       "      <td>Monday</td>\n",
       "    </tr>\n",
       "    <tr>\n",
       "      <th>4</th>\n",
       "      <td>2019/09/13</td>\n",
       "      <td>301.09</td>\n",
       "      <td>62104840.0</td>\n",
       "      <td>301.78</td>\n",
       "      <td>302.1700</td>\n",
       "      <td>300.68</td>\n",
       "      <td>Friday</td>\n",
       "    </tr>\n",
       "    <tr>\n",
       "      <th>5</th>\n",
       "      <td>2019/09/12</td>\n",
       "      <td>301.29</td>\n",
       "      <td>72908750.0</td>\n",
       "      <td>301.25</td>\n",
       "      <td>302.4600</td>\n",
       "      <td>300.41</td>\n",
       "      <td>Thursday</td>\n",
       "    </tr>\n",
       "  </tbody>\n",
       "</table>\n",
       "</div>"
      ],
      "text/plain": [
       "         date   close      volume    open      high     low day_of_week\n",
       "1  2019/09/18  301.10  74192090.0  300.49  301.2200  298.24   Wednesday\n",
       "2  2019/09/17  300.92  42904430.0  299.94  301.0200  299.75     Tuesday\n",
       "3  2019/09/16  300.16  58191180.0  299.84  301.1378  299.45      Monday\n",
       "4  2019/09/13  301.09  62104840.0  301.78  302.1700  300.68      Friday\n",
       "5  2019/09/12  301.29  72908750.0  301.25  302.4600  300.41    Thursday"
      ]
     },
     "execution_count": 40,
     "metadata": {},
     "output_type": "execute_result"
    }
   ],
   "source": [
    "vol_list = []\n",
    "for vol in spy_df['volume']:\n",
    "    vol = float(vol)\n",
    "    vol_list.append(vol)\n",
    "spy_df['volume'] = vol_list\n",
    "spy_df.head()"
   ]
  },
  {
   "cell_type": "code",
   "execution_count": 41,
   "metadata": {},
   "outputs": [],
   "source": [
    "pct_change = spy_df[['high','low','open','close','volume']].pct_change()\n",
    "pct_change['day_of_week'] = spy_df['day_of_week']"
   ]
  },
  {
   "cell_type": "code",
   "execution_count": 51,
   "metadata": {},
   "outputs": [],
   "source": [
    "grouped_df = pct_change.groupby('day_of_week').mean()\n",
    "grouped_df = grouped_df.reset_index()\n",
    "week_df = pd.concat([grouped_df[1:2],grouped_df[3:5],grouped_df[2:3],grouped_df[0:1]])\n",
    "week_df = week_df.set_index('day_of_week')"
   ]
  },
  {
   "cell_type": "code",
   "execution_count": 52,
   "metadata": {},
   "outputs": [
    {
     "data": {
      "text/html": [
       "<div>\n",
       "<style scoped>\n",
       "    .dataframe tbody tr th:only-of-type {\n",
       "        vertical-align: middle;\n",
       "    }\n",
       "\n",
       "    .dataframe tbody tr th {\n",
       "        vertical-align: top;\n",
       "    }\n",
       "\n",
       "    .dataframe thead th {\n",
       "        text-align: right;\n",
       "    }\n",
       "</style>\n",
       "<table border=\"1\" class=\"dataframe\">\n",
       "  <thead>\n",
       "    <tr style=\"text-align: right;\">\n",
       "      <th></th>\n",
       "      <th>day_of_week</th>\n",
       "      <th>high</th>\n",
       "      <th>low</th>\n",
       "      <th>open</th>\n",
       "      <th>close</th>\n",
       "      <th>volume</th>\n",
       "    </tr>\n",
       "  </thead>\n",
       "  <tbody>\n",
       "    <tr>\n",
       "      <th>0</th>\n",
       "      <td>Friday</td>\n",
       "      <td>0.002988</td>\n",
       "      <td>0.000984</td>\n",
       "      <td>0.001960</td>\n",
       "      <td>0.001982</td>\n",
       "      <td>0.254743</td>\n",
       "    </tr>\n",
       "    <tr>\n",
       "      <th>1</th>\n",
       "      <td>Monday</td>\n",
       "      <td>-0.000280</td>\n",
       "      <td>0.000878</td>\n",
       "      <td>0.002337</td>\n",
       "      <td>-0.001240</td>\n",
       "      <td>0.011882</td>\n",
       "    </tr>\n",
       "    <tr>\n",
       "      <th>2</th>\n",
       "      <td>Thursday</td>\n",
       "      <td>-0.000002</td>\n",
       "      <td>-0.000571</td>\n",
       "      <td>-0.001533</td>\n",
       "      <td>0.001857</td>\n",
       "      <td>0.063693</td>\n",
       "    </tr>\n",
       "    <tr>\n",
       "      <th>3</th>\n",
       "      <td>Tuesday</td>\n",
       "      <td>-0.001698</td>\n",
       "      <td>0.000506</td>\n",
       "      <td>-0.000964</td>\n",
       "      <td>-0.000358</td>\n",
       "      <td>-0.013066</td>\n",
       "    </tr>\n",
       "    <tr>\n",
       "      <th>4</th>\n",
       "      <td>Wednesday</td>\n",
       "      <td>-0.002727</td>\n",
       "      <td>-0.003510</td>\n",
       "      <td>-0.003860</td>\n",
       "      <td>-0.004199</td>\n",
       "      <td>-0.017989</td>\n",
       "    </tr>\n",
       "  </tbody>\n",
       "</table>\n",
       "</div>"
      ],
      "text/plain": [
       "  day_of_week      high       low      open     close    volume\n",
       "0      Friday  0.002988  0.000984  0.001960  0.001982  0.254743\n",
       "1      Monday -0.000280  0.000878  0.002337 -0.001240  0.011882\n",
       "2    Thursday -0.000002 -0.000571 -0.001533  0.001857  0.063693\n",
       "3     Tuesday -0.001698  0.000506 -0.000964 -0.000358 -0.013066\n",
       "4   Wednesday -0.002727 -0.003510 -0.003860 -0.004199 -0.017989"
      ]
     },
     "execution_count": 52,
     "metadata": {},
     "output_type": "execute_result"
    }
   ],
   "source": [
    "grouped_df"
   ]
  },
  {
   "cell_type": "code",
   "execution_count": 53,
   "metadata": {},
   "outputs": [
    {
     "data": {
      "text/plain": [
       "<matplotlib.axes._subplots.AxesSubplot at 0x21543788400>"
      ]
     },
     "execution_count": 53,
     "metadata": {},
     "output_type": "execute_result"
    },
    {
     "data": {
      "image/png": "[encoded data removed]",
      "text/plain": [
       "<Figure size 432x288 with 1 Axes>"
      ]
     },
     "metadata": {
      "needs_background": "light"
     },
     "output_type": "display_data"
    }
   ],
   "source": [
    "pct_change['volume'].plot()"
   ]
  },
  {
   "cell_type": "code",
   "execution_count": 64,
   "metadata": {},
   "outputs": [
    {
     "name": "stdout",
     "output_type": "stream",
     "text": [
      "Plot for Percent Change of High for Day of Week\n"
     ]
    },
    {
     "data": {
      "image/png": "[encoded data removed]",
      "text/plain": [
       "<Figure size 432x288 with 1 Axes>"
      ]
     },
     "metadata": {
      "needs_background": "light"
     },
     "output_type": "display_data"
    },
    {
     "name": "stdout",
     "output_type": "stream",
     "text": [
      "\n",
      "\n",
      "Plot for Percent Change of Low for Day of Week\n"
     ]
    },
    {
     "data": {
      "image/png": "[encoded data removed]",
      "text/plain": [
       "<Figure size 432x288 with 1 Axes>"
      ]
     },
     "metadata": {
      "needs_background": "light"
     },
     "output_type": "display_data"
    },
    {
     "name": "stdout",
     "output_type": "stream",
     "text": [
      "\n",
      "\n",
      "Plot for Percent Change of Open for Day of Week\n"
     ]
    },
    {
     "data": {
      "image/png": "[encoded data removed]",
      "text/plain": [
       "<Figure size 432x288 with 1 Axes>"
      ]
     },
     "metadata": {
      "needs_background": "light"
     },
     "output_type": "display_data"
    },
    {
     "name": "stdout",
     "output_type": "stream",
     "text": [
      "\n",
      "\n",
      "Plot for Percent Change of Close for Day of Week\n"
     ]
    },
    {
     "data": {
      "image/png": "[encoded data removed]",
      "text/plain": [
       "<Figure size 432x288 with 1 Axes>"
      ]
     },
     "metadata": {
      "needs_background": "light"
     },
     "output_type": "display_data"
    },
    {
     "name": "stdout",
     "output_type": "stream",
     "text": [
      "\n",
      "\n",
      "Plot for Percent Change of Volume for Day of Week\n"
     ]
    },
    {
     "data": {
      "image/png": "[encoded data removed]",
      "text/plain": [
       "<Figure size 432x288 with 1 Axes>"
      ]
     },
     "metadata": {
      "needs_background": "light"
     },
     "output_type": "display_data"
    },
    {
     "name": "stdout",
     "output_type": "stream",
     "text": [
      "\n",
      "\n"
     ]
    }
   ],
   "source": [
    "for col in week_df.columns:\n",
    "    print(f'Plot for Percent Change of {col[0].upper() + col[1:]} for Day of Week')\n",
    "    plot = plt.plot(week_df[col])\n",
    "    plt.show()\n",
    "    print('\\n')"
   ]
  },
  {
   "cell_type": "code",
   "execution_count": null,
   "metadata": {},
   "outputs": [],
   "source": []
  }
 ],
 "metadata": {
  "kernelspec": {
   "display_name": "Python 3",
   "language": "python",
   "name": "python3"
  },
  "language_info": {
   "codemirror_mode": {
    "name": "ipython",
    "version": 3
   },
   "file_extension": ".py",
   "mimetype": "text/x-python",
   "name": "python",
   "nbconvert_exporter": "python",
   "pygments_lexer": "ipython3",
   "version": "3.7.3"
  }
 },
 "nbformat": 4,
 "nbformat_minor": 4
}
