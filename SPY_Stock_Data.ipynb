{
 "cells": [
  {
   "cell_type": "code",
   "execution_count": 1,
   "metadata": {},
   "outputs": [],
   "source": [
    "import requests\n",
    "import os\n",
    "import json\n",
    "import pandas as pd"
   ]
  },
  {
   "cell_type": "code",
   "execution_count": 2,
   "metadata": {},
   "outputs": [
    {
     "data": {
      "text/plain": [
       "str"
      ]
     },
     "execution_count": 2,
     "metadata": {},
     "output_type": "execute_result"
    }
   ],
   "source": [
    "alpha_vantage_key = os.environ.get('alpha_vantage_key')\n",
    "type(alpha_vantage_key)"
   ]
  },
  {
   "cell_type": "code",
   "execution_count": 3,
   "metadata": {},
   "outputs": [],
   "source": [
    "SPYRespone = requests.get(\"https://www.alphavantage.co/query?function=TIME_SERIES_INTRADAY&symbol=SPY&interval=5min&outputsize=full&apikey=\"+alpha_vantage_key)"
   ]
  },
  {
   "cell_type": "code",
   "execution_count": 4,
   "metadata": {},
   "outputs": [
    {
     "data": {
      "text/html": [
       "<div>\n",
       "<style scoped>\n",
       "    .dataframe tbody tr th:only-of-type {\n",
       "        vertical-align: middle;\n",
       "    }\n",
       "\n",
       "    .dataframe tbody tr th {\n",
       "        vertical-align: top;\n",
       "    }\n",
       "\n",
       "    .dataframe thead th {\n",
       "        text-align: right;\n",
       "    }\n",
       "</style>\n",
       "<table border=\"1\" class=\"dataframe\">\n",
       "  <thead>\n",
       "    <tr style=\"text-align: right;\">\n",
       "      <th></th>\n",
       "      <th>high</th>\n",
       "      <th>low</th>\n",
       "      <th>open</th>\n",
       "      <th>close</th>\n",
       "      <th>volume</th>\n",
       "    </tr>\n",
       "    <tr>\n",
       "      <th>date</th>\n",
       "      <th></th>\n",
       "      <th></th>\n",
       "      <th></th>\n",
       "      <th></th>\n",
       "      <th></th>\n",
       "    </tr>\n",
       "  </thead>\n",
       "  <tbody>\n",
       "    <tr>\n",
       "      <th>2019-09-18 16:00:00</th>\n",
       "      <td>301.1800</td>\n",
       "      <td>300.8800</td>\n",
       "      <td>300.9200</td>\n",
       "      <td>301.0900</td>\n",
       "      <td>2605861</td>\n",
       "    </tr>\n",
       "    <tr>\n",
       "      <th>2019-09-18 15:55:00</th>\n",
       "      <td>301.1150</td>\n",
       "      <td>300.7800</td>\n",
       "      <td>301.0700</td>\n",
       "      <td>300.9300</td>\n",
       "      <td>1530074</td>\n",
       "    </tr>\n",
       "    <tr>\n",
       "      <th>2019-09-18 15:50:00</th>\n",
       "      <td>301.2200</td>\n",
       "      <td>300.8700</td>\n",
       "      <td>301.1100</td>\n",
       "      <td>301.0750</td>\n",
       "      <td>1008101</td>\n",
       "    </tr>\n",
       "    <tr>\n",
       "      <th>2019-09-18 15:45:00</th>\n",
       "      <td>301.1500</td>\n",
       "      <td>300.7700</td>\n",
       "      <td>300.8371</td>\n",
       "      <td>301.1099</td>\n",
       "      <td>1331434</td>\n",
       "    </tr>\n",
       "    <tr>\n",
       "      <th>2019-09-18 15:40:00</th>\n",
       "      <td>300.8600</td>\n",
       "      <td>300.6800</td>\n",
       "      <td>300.8100</td>\n",
       "      <td>300.8300</td>\n",
       "      <td>1685182</td>\n",
       "    </tr>\n",
       "  </tbody>\n",
       "</table>\n",
       "</div>"
      ],
      "text/plain": [
       "                         high       low      open     close   volume\n",
       "date                                                                \n",
       "2019-09-18 16:00:00  301.1800  300.8800  300.9200  301.0900  2605861\n",
       "2019-09-18 15:55:00  301.1150  300.7800  301.0700  300.9300  1530074\n",
       "2019-09-18 15:50:00  301.2200  300.8700  301.1100  301.0750  1008101\n",
       "2019-09-18 15:45:00  301.1500  300.7700  300.8371  301.1099  1331434\n",
       "2019-09-18 15:40:00  300.8600  300.6800  300.8100  300.8300  1685182"
      ]
     },
     "execution_count": 4,
     "metadata": {},
     "output_type": "execute_result"
    }
   ],
   "source": [
    "SPY_date = []\n",
    "SPY_high = []\n",
    "SPY_low = []\n",
    "SPY_open = []\n",
    "SPY_close = []\n",
    "SPY_volume = []\n",
    "\n",
    "for k in SPYRespone.json()[\"Time Series (5min)\"].keys():\n",
    "    SPY_date.append(k)\n",
    "    SPY_open.append(SPYRespone.json()[\"Time Series (5min)\"][k]['1. open'])\n",
    "    SPY_high.append(SPYRespone.json()[\"Time Series (5min)\"][k]['2. high'])\n",
    "    SPY_low.append(SPYRespone.json()[\"Time Series (5min)\"][k]['3. low'])\n",
    "    SPY_close.append(SPYRespone.json()[\"Time Series (5min)\"][k]['4. close'])\n",
    "    SPY_volume.append(SPYRespone.json()[\"Time Series (5min)\"][k]['5. volume'])\n",
    "    \n",
    "zippedList =  list(zip(SPY_date, SPY_high, SPY_low, SPY_open, SPY_close, SPY_volume))\n",
    "concat_dataframe = pd.DataFrame(zippedList, columns = ['date' , 'high', 'low', 'open', 'close', 'volume'])\n",
    "five_min_spy_data_frame = concat_dataframe.set_index(pd.DatetimeIndex(concat_dataframe['date'])).drop(columns = 'date')\n",
    "five_min_spy_data_frame.head()"
   ]
  },
  {
   "cell_type": "code",
   "execution_count": 5,
   "metadata": {},
   "outputs": [],
   "source": [
    "five_min_spy_data_frame.to_csv(\"five_min_spy_data_frame\")"
   ]
  },
  {
   "cell_type": "code",
   "execution_count": 29,
   "metadata": {},
   "outputs": [],
   "source": [
    "spy_df = five_min_spy_data_frame.reset_index()"
   ]
  },
  {
   "cell_type": "code",
   "execution_count": 67,
   "metadata": {},
   "outputs": [],
   "source": [
    "spy_date_list = []\n",
    "for row in spy_df['date']:\n",
    "    spy_date_list.append(row)"
   ]
  },
  {
   "cell_type": "code",
   "execution_count": 68,
   "metadata": {},
   "outputs": [],
   "source": [
    "row_num = 0\n",
    "for row in spy_date_list:\n",
    "    spy_date_list[row_num] = spy_date_list[row_num].strftime(\"%m/%d/%Y, %H:%M:%S\")\n",
    "    row_num += 1\n"
   ]
  },
  {
   "cell_type": "code",
   "execution_count": null,
   "metadata": {},
   "outputs": [],
   "source": []
  }
 ],
 "metadata": {
  "kernelspec": {
   "display_name": "Python 3",
   "language": "python",
   "name": "python3"
  },
  "language_info": {
   "codemirror_mode": {
    "name": "ipython",
    "version": 3
   },
   "file_extension": ".py",
   "mimetype": "text/x-python",
   "name": "python",
   "nbconvert_exporter": "python",
   "pygments_lexer": "ipython3",
   "version": "3.7.3"
  }
 },
 "nbformat": 4,
 "nbformat_minor": 4
}
