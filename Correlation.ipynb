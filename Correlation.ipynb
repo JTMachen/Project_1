{
 "cells": [
  {
   "cell_type": "code",
   "execution_count": 14,
   "metadata": {},
   "outputs": [],
   "source": [
    "import pandas as pd\n",
    "import numpy as np\n",
    "import seaborn as sns; sns.set()\n",
    "import matplotlib.pyplot as plt\n",
    "from datetime import datetime"
   ]
  },
  {
   "cell_type": "code",
   "execution_count": 32,
   "metadata": {},
   "outputs": [
    {
     "data": {
      "text/html": [
       "<div>\n",
       "<style scoped>\n",
       "    .dataframe tbody tr th:only-of-type {\n",
       "        vertical-align: middle;\n",
       "    }\n",
       "\n",
       "    .dataframe tbody tr th {\n",
       "        vertical-align: top;\n",
       "    }\n",
       "\n",
       "    .dataframe thead th {\n",
       "        text-align: right;\n",
       "    }\n",
       "</style>\n",
       "<table border=\"1\" class=\"dataframe\">\n",
       "  <thead>\n",
       "    <tr style=\"text-align: right;\">\n",
       "      <th></th>\n",
       "      <th>date</th>\n",
       "      <th>close</th>\n",
       "      <th>volume</th>\n",
       "      <th>open</th>\n",
       "      <th>high</th>\n",
       "      <th>low</th>\n",
       "    </tr>\n",
       "  </thead>\n",
       "  <tbody>\n",
       "    <tr>\n",
       "      <th>0</th>\n",
       "      <td>13:43</td>\n",
       "      <td>301.42</td>\n",
       "      <td>43,771,391</td>\n",
       "      <td>301.53</td>\n",
       "      <td>302.6300</td>\n",
       "      <td>301.17</td>\n",
       "    </tr>\n",
       "    <tr>\n",
       "      <th>1</th>\n",
       "      <td>2019/09/18</td>\n",
       "      <td>301.10</td>\n",
       "      <td>74192090.0000</td>\n",
       "      <td>300.49</td>\n",
       "      <td>301.2200</td>\n",
       "      <td>298.24</td>\n",
       "    </tr>\n",
       "    <tr>\n",
       "      <th>2</th>\n",
       "      <td>2019/09/17</td>\n",
       "      <td>300.92</td>\n",
       "      <td>42904430.0000</td>\n",
       "      <td>299.94</td>\n",
       "      <td>301.0200</td>\n",
       "      <td>299.75</td>\n",
       "    </tr>\n",
       "    <tr>\n",
       "      <th>3</th>\n",
       "      <td>2019/09/16</td>\n",
       "      <td>300.16</td>\n",
       "      <td>58191180.0000</td>\n",
       "      <td>299.84</td>\n",
       "      <td>301.1378</td>\n",
       "      <td>299.45</td>\n",
       "    </tr>\n",
       "    <tr>\n",
       "      <th>4</th>\n",
       "      <td>2019/09/13</td>\n",
       "      <td>301.09</td>\n",
       "      <td>62104840.0000</td>\n",
       "      <td>301.78</td>\n",
       "      <td>302.1700</td>\n",
       "      <td>300.68</td>\n",
       "    </tr>\n",
       "  </tbody>\n",
       "</table>\n",
       "</div>"
      ],
      "text/plain": [
       "         date   close         volume    open      high     low\n",
       "0       13:43  301.42     43,771,391  301.53  302.6300  301.17\n",
       "1  2019/09/18  301.10  74192090.0000  300.49  301.2200  298.24\n",
       "2  2019/09/17  300.92  42904430.0000  299.94  301.0200  299.75\n",
       "3  2019/09/16  300.16  58191180.0000  299.84  301.1378  299.45\n",
       "4  2019/09/13  301.09  62104840.0000  301.78  302.1700  300.68"
      ]
     },
     "execution_count": 32,
     "metadata": {},
     "output_type": "execute_result"
    }
   ],
   "source": [
    "spy_df = pd.read_csv('./spy_data_frame.csv')\n",
    "spy_df.head()"
   ]
  },
  {
   "cell_type": "code",
   "execution_count": 27,
   "metadata": {},
   "outputs": [],
   "source": [
    "date_list = []\n",
    "for date in spy_df['date']:\n",
    "    date = datetime.strptime(date,'%Y-%m-%d %H:%M:%S')\n",
    "    date = datetime.strftime(date,'%A')\n",
    "    date_list.append(date)"
   ]
  },
  {
   "cell_type": "code",
   "execution_count": 28,
   "metadata": {},
   "outputs": [
    {
     "data": {
      "text/html": [
       "<div>\n",
       "<style scoped>\n",
       "    .dataframe tbody tr th:only-of-type {\n",
       "        vertical-align: middle;\n",
       "    }\n",
       "\n",
       "    .dataframe tbody tr th {\n",
       "        vertical-align: top;\n",
       "    }\n",
       "\n",
       "    .dataframe thead th {\n",
       "        text-align: right;\n",
       "    }\n",
       "</style>\n",
       "<table border=\"1\" class=\"dataframe\">\n",
       "  <thead>\n",
       "    <tr style=\"text-align: right;\">\n",
       "      <th></th>\n",
       "      <th>date</th>\n",
       "      <th>high</th>\n",
       "      <th>low</th>\n",
       "      <th>open</th>\n",
       "      <th>close</th>\n",
       "      <th>volume</th>\n",
       "      <th>day_of_week</th>\n",
       "    </tr>\n",
       "  </thead>\n",
       "  <tbody>\n",
       "    <tr>\n",
       "      <th>0</th>\n",
       "      <td>2019-09-18 15:30:00</td>\n",
       "      <td>301.2200</td>\n",
       "      <td>300.0050</td>\n",
       "      <td>300.005</td>\n",
       "      <td>301.090</td>\n",
       "      <td>10191171</td>\n",
       "      <td>Wednesday</td>\n",
       "    </tr>\n",
       "    <tr>\n",
       "      <th>1</th>\n",
       "      <td>2019-09-18 14:30:00</td>\n",
       "      <td>300.3575</td>\n",
       "      <td>298.5257</td>\n",
       "      <td>298.572</td>\n",
       "      <td>300.022</td>\n",
       "      <td>24600903</td>\n",
       "      <td>Wednesday</td>\n",
       "    </tr>\n",
       "    <tr>\n",
       "      <th>2</th>\n",
       "      <td>2019-09-18 13:30:00</td>\n",
       "      <td>300.5200</td>\n",
       "      <td>298.5700</td>\n",
       "      <td>299.680</td>\n",
       "      <td>298.780</td>\n",
       "      <td>15185359</td>\n",
       "      <td>Wednesday</td>\n",
       "    </tr>\n",
       "    <tr>\n",
       "      <th>3</th>\n",
       "      <td>2019-09-18 12:30:00</td>\n",
       "      <td>300.2450</td>\n",
       "      <td>299.6600</td>\n",
       "      <td>300.155</td>\n",
       "      <td>299.690</td>\n",
       "      <td>3569031</td>\n",
       "      <td>Wednesday</td>\n",
       "    </tr>\n",
       "    <tr>\n",
       "      <th>4</th>\n",
       "      <td>2019-09-18 11:30:00</td>\n",
       "      <td>300.2400</td>\n",
       "      <td>300.0200</td>\n",
       "      <td>300.140</td>\n",
       "      <td>300.150</td>\n",
       "      <td>3181030</td>\n",
       "      <td>Wednesday</td>\n",
       "    </tr>\n",
       "  </tbody>\n",
       "</table>\n",
       "</div>"
      ],
      "text/plain": [
       "                  date      high       low     open    close    volume  \\\n",
       "0  2019-09-18 15:30:00  301.2200  300.0050  300.005  301.090  10191171   \n",
       "1  2019-09-18 14:30:00  300.3575  298.5257  298.572  300.022  24600903   \n",
       "2  2019-09-18 13:30:00  300.5200  298.5700  299.680  298.780  15185359   \n",
       "3  2019-09-18 12:30:00  300.2450  299.6600  300.155  299.690   3569031   \n",
       "4  2019-09-18 11:30:00  300.2400  300.0200  300.140  300.150   3181030   \n",
       "\n",
       "  day_of_week  \n",
       "0   Wednesday  \n",
       "1   Wednesday  \n",
       "2   Wednesday  \n",
       "3   Wednesday  \n",
       "4   Wednesday  "
      ]
     },
     "execution_count": 28,
     "metadata": {},
     "output_type": "execute_result"
    }
   ],
   "source": [
    "spy_df['day_of_week'] = date_list\n",
    "spy_df.head()"
   ]
  },
  {
   "cell_type": "code",
   "execution_count": 30,
   "metadata": {},
   "outputs": [
    {
     "data": {
      "text/plain": [
       "<matplotlib.axes._subplots.AxesSubplot at 0x1fe40368198>"
      ]
     },
     "execution_count": 30,
     "metadata": {},
     "output_type": "execute_result"
    },
    {
     "data": {
      "image/png": "[encoded data removed]",
      "text/plain": [
       "<Figure size 864x720 with 2 Axes>"
      ]
     },
     "metadata": {},
     "output_type": "display_data"
    }
   ],
   "source": [
    "diff_df_corr = spy_df[['date','high','low','open','volume','day_of_week','close']].corr()\n",
    "plt.figure(figsize=(12,10))\n",
    "ax = sns.heatmap(diff_df_corr,vmin = -1,vmax = 1,annot=True,fmt=\".2f\")\n",
    "ax"
   ]
  },
  {
   "cell_type": "code",
   "execution_count": null,
   "metadata": {},
   "outputs": [],
   "source": []
  }
 ],
 "metadata": {
  "kernelspec": {
   "display_name": "Python 3",
   "language": "python",
   "name": "python3"
  },
  "language_info": {
   "codemirror_mode": {
    "name": "ipython",
    "version": 3
   },
   "file_extension": ".py",
   "mimetype": "text/x-python",
   "name": "python",
   "nbconvert_exporter": "python",
   "pygments_lexer": "ipython3",
   "version": "3.7.3"
  }
 },
 "nbformat": 4,
 "nbformat_minor": 4
}
